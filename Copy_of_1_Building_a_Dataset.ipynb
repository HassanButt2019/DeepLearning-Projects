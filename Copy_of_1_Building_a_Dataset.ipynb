{
  "nbformat": 4,
  "nbformat_minor": 0,
  "metadata": {
    "colab": {
      "name": "Copy of 1_Building_a_Dataset.ipynb",
      "provenance": [],
      "collapsed_sections": [],
      "include_colab_link": true
    },
    "kernelspec": {
      "name": "python3",
      "display_name": "Python 3"
    }
  },
  "cells": [
    {
      "cell_type": "markdown",
      "metadata": {
        "id": "view-in-github",
        "colab_type": "text"
      },
      "source": [
        "<a href=\"https://colab.research.google.com/github/HassanButt2019/DeepLearning-Projects/blob/main/Copy_of_1_Building_a_Dataset.ipynb\" target=\"_parent\"><img src=\"https://colab.research.google.com/assets/colab-badge.svg\" alt=\"Open In Colab\"/></a>"
      ]
    },
    {
      "cell_type": "markdown",
      "metadata": {
        "id": "QLytiSIZC1Cm"
      },
      "source": [
        "#Building a Dataset\n",
        "To build a Dataset is the first challenge, sometimes there are huge datasets ready to be downloaded ( https://www.kaggle.com , in public organizations http://governobert.gencat.cat/en/dades_obertes/ , etc). Unfortunatelly, there was not any dataset available. Where could we get thousands of videos recorded with dshboard camera? Right, in www.youtube.com\n",
        "\n",
        "Youtube is the largest repository of videos with many examples of both car crashes (lots of compilations) and non-crashes. Fist challenge is to have consistent data. Main rules in the dataset creation were:\n",
        "- location of the camera: should be a dashboard camera or recorded from similar location\n",
        "- crashes between cars or car and truck (no motorbikes, trains, ...)\n",
        "- light conditions: records during the day\n",
        "- video quality at least 640 width or above\n",
        "- removed any cover with titles\n",
        "- car crash accidents type\n",
        "\n",
        "First task was to download the candidate videos in order to process the images and homogenize the data.\n",
        "We used OpenCV library to extract the frames, and scikit-image to modify and resize them. Frames are converted to 640 pixels width and from colors to grayscale."
      ]
    },
    {
      "cell_type": "markdown",
      "metadata": {
        "id": "XcYa3PpLELOW"
      },
      "source": [
        "### **INPUT required** : a video with mp4 format stored in Google Drive folder  CarCrashDetection/Sources"
      ]
    },
    {
      "cell_type": "markdown",
      "metadata": {
        "id": "z1cwXZWXfJ3y"
      },
      "source": [
        "# Index\n",
        "<ol>\n",
        "    <li><a href=\"#env_setup\">Environment setup </a>\n",
        "    <li><a href=\"#drive_setup\">Connection to Google drive</a>\n",
        "    <li><a href=\"#variables\">Constants and variables</a>\n",
        "    <li><a href=\"#video_frame\">Transform videos to frames</a>"
      ]
    },
    {
      "cell_type": "markdown",
      "metadata": {
        "id": "E9_XGk6Gfeu-"
      },
      "source": [
        "<a id=\"env_setup\"> </a>\n",
        "## 1. Environment setup and library import"
      ]
    },
    {
      "cell_type": "code",
      "metadata": {
        "id": "wLdz8E-BZP3C",
        "colab": {
          "base_uri": "https://localhost:8080/",
          "height": 182
        },
        "outputId": "b9dd06f8-172d-4ce6-d89a-fd2bfc9ef98e"
      },
      "source": [
        "!pip install --upgrade pip > /dev/null\n",
        "!pip install scikit-image==0.13.1\n",
        "!pip install opencv-python==3.4.0.12"
      ],
      "execution_count": null,
      "outputs": [
        {
          "output_type": "stream",
          "text": [
            "Collecting opencv-python==3.4.0.12\n",
            "\u001b[?25l  Downloading https://files.pythonhosted.org/packages/50/f9/5c454f0f52788a913979877e6ed9b2454a9c7676581a0ee3a2d81db784a6/opencv_python-3.4.0.12-cp36-cp36m-manylinux1_x86_64.whl (24.9MB)\n",
            "\u001b[K    100% |████████████████████████████████| 24.9MB 1.2MB/s \n",
            "\u001b[?25hRequirement already satisfied: numpy>=1.11.3 in /usr/local/lib/python3.6/dist-packages (from opencv-python==3.4.0.12) (1.14.6)\n",
            "Installing collected packages: opencv-python\n",
            "  Found existing installation: opencv-python 3.4.4.19\n",
            "    Uninstalling opencv-python-3.4.4.19:\n",
            "      Successfully uninstalled opencv-python-3.4.4.19\n",
            "Successfully installed opencv-python-3.4.0.12\n"
          ],
          "name": "stdout"
        }
      ]
    },
    {
      "cell_type": "code",
      "metadata": {
        "id": "A7Vu1eSYey5e"
      },
      "source": [
        "import cv2\n",
        "from skimage.color import rgb2gray\n",
        "from skimage.transform import resize\n",
        "import matplotlib.pyplot as plt\n",
        "import math\n",
        "import time\n",
        "import random\n"
      ],
      "execution_count": null,
      "outputs": []
    },
    {
      "cell_type": "markdown",
      "metadata": {
        "id": "NCfhpvFj9MVS"
      },
      "source": [
        "<a id=\"drive_setup\"> </a>\n",
        "## 2. Link Goggle Drive with Colab\n",
        "\n",
        "Run the code and follow the link to get an authentification key, copy it and paste in the box that will appear in jupyter notebook. After fist key the script will ask for a second authentification key, follow the process as above.\n",
        "\n",
        "Source : https://medium.com/deep-learning-turkey/google-colab-free-gpu-tutorial-e113627b9f5d "
      ]
    },
    {
      "cell_type": "code",
      "metadata": {
        "id": "8PDFEgqA9KuM",
        "colab": {
          "base_uri": "https://localhost:8080/"
        },
        "outputId": "4ba6f7e5-3c64-4384-c04d-df93d28cc9da"
      },
      "source": [
        "# Check is Link to Drive is OK\n",
        "google = !if [ -d 'GDrive/' ]; then echo \"1\" ; else echo \"0\"; fi\n",
        "if (google[0] is '0' ):\n",
        "  from google.colab import drive\n",
        "  drive.mount('/content/GDrive/')\n",
        "!if [ -d 'GDrive/' ]; then echo \"Connection to Google drive successful\" ; else echo \"Error to connect to Google drive\"; fi"
      ],
      "execution_count": null,
      "outputs": [
        {
          "output_type": "stream",
          "name": "stdout",
          "text": [
            "Connection to Google drive successful\n"
          ]
        }
      ]
    },
    {
      "cell_type": "markdown",
      "metadata": {
        "id": "cxAIW3nO_awu"
      },
      "source": [
        "<a id=\"variables\"> </a>\n",
        "## 3. Constants and variables"
      ]
    },
    {
      "cell_type": "code",
      "metadata": {
        "id": "oL4fPGpuKP2m",
        "colab": {
          "base_uri": "https://localhost:8080/"
        },
        "outputId": "b296d668-4474-4abd-aa33-150e601a01e4"
      },
      "source": [
        "# # Make a temporarty directory in Google colab\n",
        "# !mkdir -p /content/CarCrashDetection/Sources/frames > /dev/null\n",
        "\n",
        "# # Recomended to download and copy mp4 video in your Google Drive.\n",
        "# # Directory tree structure in Google drive\n",
        "# #      / ──┐\n",
        "# #          └─ /CarCrashDetection ──┐\n",
        "# #                                  ├─ videofile\n",
        "# #                                  └─ /frames \n",
        "\n",
        "# # copy video stored in Google Drive /CarCrashDetection/Sources/   to Colab\n",
        "# !cp -r GDrive/MyDrive /content/CarCrashDetection/Sources/*.mp4 CarCrashDetection/Sources/"
      ],
      "execution_count": null,
      "outputs": [
        {
          "output_type": "stream",
          "name": "stdout",
          "text": [
            "cp: cannot open 'GDrive/MyDrive/DLD Course Ouline Sp-2019.gdoc' for reading: Operation not supported\n",
            "^C\n"
          ]
        }
      ]
    },
    {
      "cell_type": "code",
      "metadata": {
        "id": "xwVJaYVnW9bd",
        "colab": {
          "base_uri": "https://localhost:8080/",
          "height": 52
        },
        "outputId": "d31adf1c-a4a8-4536-be41-ffe92ec987f4"
      },
      "source": [
        "INPUT_VIDEOS_PATH = '/content/GDrive/MyDrive/videos'              # Path to folder with videos \n",
        "OUTPUT_FRAMES_PATH = '/content/GDrive/MyDrive/videos/Frames2'      # Location of extracted images\n",
        "\n",
        "frame_name = 'frame'                                                  # Frame name       \n",
        "one_frame_each = 4                                                    # Extract one frame each 70\n",
        "\n",
        "\n",
        "!if [ -d {OUTPUT_FRAMES_PATH} ]; then echo \"Output to be stored in \"{OUTPUT_FRAMES_PATH} ; else mkdir {OUTPUT_FRAMES_PATH} && echo \"Output directory created\"; fi\n",
        "\n",
        "files = !ls {INPUT_VIDEOS_PATH}/*.mp4                                 # Video file names in INPUT VIDEOS PATH\n",
        "videofile = files[0]                                                  # Refactor of variable 'files' to convert the first video of list \n",
        "videofile"
      ],
      "execution_count": null,
      "outputs": [
        {
          "output_type": "stream",
          "name": "stdout",
          "text": [
            "Output to be stored in /content/GDrive/MyDrive/videos/Frames2\n"
          ]
        },
        {
          "output_type": "execute_result",
          "data": {
            "application/vnd.google.colaboratory.intrinsic+json": {
              "type": "string"
            },
            "text/plain": [
              "\"'/content/GDrive/MyDrive/videos/burning house.mp4'\""
            ]
          },
          "metadata": {},
          "execution_count": 76
        }
      ]
    },
    {
      "cell_type": "markdown",
      "metadata": {
        "id": "ol7vkvGijGUZ"
      },
      "source": [
        "<a id=\"video_frame\"> </a>\n",
        "## 4. Transform videos to frames"
      ]
    },
    {
      "cell_type": "code",
      "metadata": {
        "id": "TEyu5N0u7GWi"
      },
      "source": [
        "count = 0\n",
        "success = True\n",
        "\n",
        "vidcap = cv2.VideoCapture('')\n",
        "frames = vidcap.get(cv2.CAP_PROP_FRAME_COUNT) \n",
        "fps = int(vidcap.get(cv2.CAP_PROP_FPS)) \n",
        "seconds = int(frames / fps) \n",
        "print(\"duration in seconds:\", seconds) \n",
        "count = 1\n",
        "nsec = 0\n",
        "prev = 0\n",
        "randomnum = 0\n",
        "dsize = (480, 360)\n",
        "while success :\n",
        "        success,image = vidcap.read()                                 # reads next frame\n",
        "        if image is None:\n",
        "          print(\"Can't load image, please check the path\")\n",
        "        else:\n",
        "          nsec += 10\n",
        "          if(nsec != prev):  \n",
        "            image = image[:, :, ::-1]\n",
        "            image =cv2.resize(image, dsize)\n",
        "            plt.imshow(image)\n",
        "            randomnum = random.randint(2000,100000000) \n",
        "            print(nsec)\n",
        "            plt.imsave(\"%s/%s%d%d.png\" % (OUTPUT_FRAMES_PATH,frame_name, count,randomnum), image) # saves images to frame folder\n",
        "            prev = nsec"
      ],
      "execution_count": null,
      "outputs": []
    },
    {
      "cell_type": "code",
      "metadata": {
        "id": "K_GgBtQrOKdo"
      },
      "source": [
        "import cv2\n",
        "dsize = (480, 360)\n",
        "vidcap = cv2.VideoCapture('/content/GDrive/MyDrive/videos/5.mp4')\n",
        "def getFrame(sec):\n",
        "    randomnum = random.randint(2000,100000000) \n",
        "    vidcap.set(cv2.CAP_PROP_POS_MSEC,sec*1000)\n",
        "    hasFrames,image = vidcap.read()\n",
        "    if image is not None:\n",
        "        image = image[:, :, ::-1]\n",
        "        image =cv2.resize(image, dsize)\n",
        "        if hasFrames:\n",
        "           cv2.imwrite(\"image\"+str(count)+\".jpg\", image)     # save frame as JPG file\n",
        "           plt.imsave(\"%s/%s%d%d.png\" % (OUTPUT_FRAMES_PATH,frame_name, count,randomnum), image)\n",
        "    return hasFrames\n",
        "sec = 0\n",
        "frameRate = 5 #//it will capture image in each 2 second\n",
        "count=1\n",
        "success = getFrame(sec)\n",
        "while success:\n",
        "    count = count + 1\n",
        "    sec = sec + frameRate\n",
        "    sec = round(sec, 2)\n",
        "    success = getFrame(sec)"
      ],
      "execution_count": null,
      "outputs": []
    },
    {
      "cell_type": "code",
      "metadata": {
        "id": "abO-IhTn43tf"
      },
      "source": [
        ""
      ],
      "execution_count": null,
      "outputs": []
    }
  ]
}