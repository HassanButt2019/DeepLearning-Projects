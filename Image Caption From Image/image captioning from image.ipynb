{
  "nbformat": 4,
  "nbformat_minor": 0,
  "metadata": {
    "colab": {
      "name": "Untitled0.ipynb",
      "provenance": []
    },
    "kernelspec": {
      "name": "python3",
      "display_name": "Python 3"
    },
    "language_info": {
      "name": "python"
    }
  },
  "cells": [
    {
      "cell_type": "code",
      "metadata": {
        "id": "u45fqJUn3mC2"
      },
      "source": [
        "\n",
        "from os import listdir\n",
        "from pickle import dump\n",
        "from keras.applications.vgg16 import VGG16\n",
        "from keras.preprocessing.image import load_img , img_to_array\n",
        "from keras.applications.vgg16 import preprocess_input\n",
        "from keras.models import Model\n"
      ],
      "execution_count": 2,
      "outputs": []
    },
    {
      "cell_type": "code",
      "metadata": {
        "id": "LfF9AQLR4VrA"
      },
      "source": [
        "def extract_features(direct):\n",
        "  model = VGG16()\n",
        "  model.layers.pop()\n",
        "  model = Model(inputs= model.inputs , outputs = model.layers[-1].output)\n",
        "\n",
        "  print(model.summary())\n",
        "\n",
        "  features = dict()\n",
        "\n",
        "  for name in listdir(direct):\n",
        "    filename = direct + '/' + name\n",
        "    image = load_img(filename , target_size=(224,224))\n",
        "    image = img_to_array(image)\n",
        "    image = image.reshape((1 , image.shape[0] , image.shape[1] , image.shape[2]))\n",
        "    image = preprocess_input(image)\n",
        "    feature = model.predict(image , verbose = 0)\n",
        "    image_id = name.split('.')[0]\n",
        "    features[image_id] = feature\n",
        "    print(name)\n",
        "  return features\n"
      ],
      "execution_count": 6,
      "outputs": []
    },
    {
      "cell_type": "code",
      "metadata": {
        "id": "5qQfRc4q_BQn",
        "outputId": "6c790f66-a8a5-4378-a718-44a36262d1e9",
        "colab": {
          "base_uri": "https://localhost:8080/"
        }
      },
      "source": [
        "from google.colab import drive\n",
        "drive.mount('/content/drive')"
      ],
      "execution_count": 3,
      "outputs": [
        {
          "output_type": "stream",
          "text": [
            "Mounted at /content/drive\n"
          ],
          "name": "stdout"
        }
      ]
    },
    {
      "cell_type": "code",
      "metadata": {
        "id": "GOTRpSNM_B_Y"
      },
      "source": [
        "directory = '/content/drive/MyDrive/Images'\n",
        "features = extract_features(directory)\n",
        "\n",
        "dump(features , open('/content/drive/MyDrive/features.pkl','wb'))"
      ],
      "execution_count": null,
      "outputs": []
    },
    {
      "cell_type": "code",
      "metadata": {
        "id": "OCbl4P2yBvM0"
      },
      "source": [
        ""
      ],
      "execution_count": null,
      "outputs": []
    }
  ]
}