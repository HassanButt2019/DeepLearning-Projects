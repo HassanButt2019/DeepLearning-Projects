{
  "nbformat": 4,
  "nbformat_minor": 0,
  "metadata": {
    "colab": {
      "name": "Brain Tumour Detection.ipynb",
      "provenance": [],
      "collapsed_sections": []
    },
    "kernelspec": {
      "display_name": "Python 3",
      "name": "python3"
    },
    "language_info": {
      "name": "python"
    },
    "accelerator": "GPU"
  },
  "cells": [
    {
      "cell_type": "code",
      "metadata": {
        "id": "ZNeUbJ2auGaR"
      },
      "source": [
        "#get the data from\n",
        "!wget https://www.dropbox.com/s/dtw18saps0231yn/BrainTumorData.zip?d1=0\n"
      ],
      "execution_count": null,
      "outputs": []
    },
    {
      "cell_type": "code",
      "metadata": {
        "id": "q2yIJNW-ua-u"
      },
      "source": [
        "!unzip /content/BrainTumorData.zip?d1=0"
      ],
      "execution_count": null,
      "outputs": []
    },
    {
      "cell_type": "code",
      "metadata": {
        "id": "XCYCaQ1SvKsX"
      },
      "source": [
        "import warnings\n",
        "warnings.filterwarnings('ignore')"
      ],
      "execution_count": 3,
      "outputs": []
    },
    {
      "cell_type": "code",
      "metadata": {
        "id": "FwuGqFJ9vyZR"
      },
      "source": [
        "import numpy  as np\n",
        "import matplotlib.pyplot as plt\n",
        "import os\n",
        "import math\n",
        "import shutil"
      ],
      "execution_count": 4,
      "outputs": []
    },
    {
      "cell_type": "code",
      "metadata": {
        "id": "mwcbNcGpv_o8"
      },
      "source": [
        "import glob"
      ],
      "execution_count": 5,
      "outputs": []
    },
    {
      "cell_type": "code",
      "metadata": {
        "id": "8A1CjW22wZ34"
      },
      "source": [
        "#count the number of images in the respective classes\n",
        "#0---- brain tumour\n",
        "#1---- healthy\n",
        "ROOT_DIR = r'/content/BrainTumorData/Brain Tumor Data Set'\n",
        "number_of_images = {}\n",
        "\n",
        "for dir in os.listdir(ROOT_DIR):\n",
        "  number_of_images[dir] = len(os.listdir(os.path.join(ROOT_DIR , dir)))\n",
        "\n"
      ],
      "execution_count": 6,
      "outputs": []
    },
    {
      "cell_type": "code",
      "metadata": {
        "id": "xWUze5zlwGoq",
        "colab": {
          "base_uri": "https://localhost:8080/"
        },
        "outputId": "6e27ba50-81a0-4af9-cef0-729e90254a9c"
      },
      "source": [
        " number_of_images"
      ],
      "execution_count": 7,
      "outputs": [
        {
          "output_type": "execute_result",
          "data": {
            "text/plain": [
              "{'Brain Tumor': 2513, 'Healthey': 2087}"
            ]
          },
          "metadata": {
            "tags": []
          },
          "execution_count": 7
        }
      ]
    },
    {
      "cell_type": "code",
      "metadata": {
        "id": "dXp_ZNEwyVrY"
      },
      "source": [
        "#split the data \n",
        "# 70 % for train data \n",
        "# 15 % for validation\n",
        "# 15 % for testing\n"
      ],
      "execution_count": 8,
      "outputs": []
    },
    {
      "cell_type": "code",
      "metadata": {
        "colab": {
          "base_uri": "https://localhost:8080/"
        },
        "id": "h8cp1J3fyyb2",
        "outputId": "93bd8dac-7dc0-4edf-e3c5-b358e297a222"
      },
      "source": [
        "if not os.path.exists(\"./train\"):\n",
        "  os.mkdir(\"./train\")\n",
        "\n",
        "  for dir in os.listdir(ROOT_DIR):\n",
        "    os.makedirs(\"./train/\"+dir)\n",
        "\n",
        "    for img in np.random.choice(a = os.listdir(os.path.join(ROOT_DIR,dir)) , \n",
        "                                size = (math.floor(70/100 * number_of_images[dir])),\n",
        "                                replace=False\n",
        "                                ):\n",
        "      O = os.path.join(ROOT_DIR,dir,img)#path\n",
        "      D = os.path.join('./train',dir)\n",
        "      shutil.copy(O,D)\n",
        "      os.remove(O)\n",
        "  else:\n",
        "    print(\"The folder exists\")\n",
        "    "
      ],
      "execution_count": 9,
      "outputs": [
        {
          "output_type": "stream",
          "text": [
            "The folder exists\n"
          ],
          "name": "stdout"
        }
      ]
    },
    {
      "cell_type": "code",
      "metadata": {
        "id": "1ipQPQCUM65U"
      },
      "source": [
        "def dataFolder(path , split):\n",
        "  if not os.path.exists(\"./\"+path):\n",
        "    os.mkdir(\"./\"+path)\n",
        "    \n",
        "    for dir in os.listdir(ROOT_DIR):\n",
        "      os.makedirs(\"./\"+path+\"/\"+dir)\n",
        "      for img in np.random.choice(a = os.listdir(os.path.join(ROOT_DIR,dir)) , \n",
        "                                size = (math.floor(split* number_of_images[dir])),\n",
        "                                replace=False\n",
        "                                ):\n",
        "        O = os.path.join(ROOT_DIR,dir,img)#path\n",
        "        D = os.path.join('./'+path,dir)\n",
        "        shutil.copy(O,D)\n",
        "        os.remove(O)\n",
        "    print(\"THE DATA IS TRANSFFERED\")\n",
        "  else:\n",
        "      print(\"The folder exists\")\n",
        "    \n"
      ],
      "execution_count": 10,
      "outputs": []
    },
    {
      "cell_type": "code",
      "metadata": {
        "colab": {
          "base_uri": "https://localhost:8080/"
        },
        "id": "XXHh9atVQcqW",
        "outputId": "ebead29a-cd23-4bab-f2b5-42bbea0809f1"
      },
      "source": [
        "dataFolder('train',0.7)"
      ],
      "execution_count": 11,
      "outputs": [
        {
          "output_type": "stream",
          "text": [
            "The folder exists\n"
          ],
          "name": "stdout"
        }
      ]
    },
    {
      "cell_type": "code",
      "metadata": {
        "colab": {
          "base_uri": "https://localhost:8080/"
        },
        "id": "6jbP4F2eQ0Jf",
        "outputId": "6f316be9-a914-4d96-9510-7ee038a3ffdd"
      },
      "source": [
        "dataFolder('val',0.15)"
      ],
      "execution_count": 12,
      "outputs": [
        {
          "output_type": "stream",
          "text": [
            "THE DATA IS TRANSFFERED\n"
          ],
          "name": "stdout"
        }
      ]
    },
    {
      "cell_type": "code",
      "metadata": {
        "colab": {
          "base_uri": "https://localhost:8080/"
        },
        "id": "xdovsS2mRKZQ",
        "outputId": "b7ab4fb4-c4f1-4e65-df64-8965fc62a98a"
      },
      "source": [
        "dataFolder('test',0.15)"
      ],
      "execution_count": 13,
      "outputs": [
        {
          "output_type": "stream",
          "text": [
            "THE DATA IS TRANSFFERED\n"
          ],
          "name": "stdout"
        }
      ]
    },
    {
      "cell_type": "code",
      "metadata": {
        "id": "spgsdQ9uRmoO"
      },
      "source": [
        "#Model Building"
      ],
      "execution_count": null,
      "outputs": []
    },
    {
      "cell_type": "code",
      "metadata": {
        "id": "E5MqabY1R2kN"
      },
      "source": [
        "from keras.layers import Conv2D , MaxPool2D , Dropout , Flatten , Dense , BatchNormalization , GlobalAveragePooling2D\n",
        "\n",
        "from keras.models import Sequential\n",
        "\n",
        "from keras.preprocessing.image import ImageDataGenerator\n",
        "import keras"
      ],
      "execution_count": 14,
      "outputs": []
    },
    {
      "cell_type": "code",
      "metadata": {
        "id": "r5ds4sDISP_K"
      },
      "source": [
        "# CNN MODEL\n",
        "\n",
        "model = Sequential()\n",
        "\n",
        "model.add(Conv2D(filters=16 , kernel_size= (3,3) , activation='relu' , input_shape = (224,224,3)  ))\n",
        "\n",
        "model.add(Conv2D(filters=36 , kernel_size= (3,3) , activation='relu' ))\n",
        "\n",
        "model.add(MaxPool2D(pool_size=(2,2)))\n",
        "\n",
        "model.add(Conv2D(filters=64 , kernel_size= (3,3) , activation='relu' ))\n",
        "\n",
        "model.add(MaxPool2D(pool_size=(2,2)))\n",
        "model.add(Conv2D(filters=128 , kernel_size= (3,3) , activation='relu' ))\n",
        "\n",
        "model.add(MaxPool2D(pool_size=(2,2)))\n",
        "\n",
        "\n",
        "model.add(Dropout(rate = 0.25))\n",
        "\n",
        "model.add(Flatten())\n",
        "\n",
        "model.add(Dense(units= 64 , activation='relu'))\n",
        "\n",
        "model.add(Dropout(rate = 0.25))\n",
        "\n",
        "model.add(Dense(units= 1 , activation='sigmoid'))\n",
        "\n",
        "\n",
        "\n",
        "\n"
      ],
      "execution_count": 15,
      "outputs": []
    },
    {
      "cell_type": "code",
      "metadata": {
        "id": "QaAYNGXMVNKy"
      },
      "source": [
        "model.compile(optimizer='adam' , loss= keras.losses.binary_crossentropy , metrics=['accuracy'])"
      ],
      "execution_count": 16,
      "outputs": []
    },
    {
      "cell_type": "code",
      "metadata": {
        "id": "BXJme9GEWxOD"
      },
      "source": [
        "#preparing our data using data generator\n"
      ],
      "execution_count": null,
      "outputs": []
    },
    {
      "cell_type": "code",
      "metadata": {
        "id": "gL4R1XuFWyEm"
      },
      "source": [
        "def preprocessingImages(path):\n",
        "  \"\"\"\n",
        "  input:Path\n",
        "  output: preprocess images\n",
        "  \"\"\"\n",
        "  image_data = ImageDataGenerator(zoom_range=0.2 , shear_range=0.2 , rescale=1/255 , horizontal_flip=True)\n",
        "  image = image_data.flow_from_directory(directory = path , target_size = (224 , 224) , batch_size = 32 ,class_mode = 'binary' )\n",
        "\n",
        "  return image\n",
        "\n",
        "\n",
        "\n",
        "\n",
        "\n"
      ],
      "execution_count": 17,
      "outputs": []
    },
    {
      "cell_type": "code",
      "metadata": {
        "colab": {
          "base_uri": "https://localhost:8080/"
        },
        "id": "B33HVT_qX-vm",
        "outputId": "9009109a-b9f8-4efa-a9d1-50c27c84c5ff"
      },
      "source": [
        "train_path = \"/content/train\"\n",
        "train_data = preprocessingImages(train_path)\n",
        "\n"
      ],
      "execution_count": 18,
      "outputs": [
        {
          "output_type": "stream",
          "text": [
            "Found 3219 images belonging to 2 classes.\n"
          ],
          "name": "stdout"
        }
      ]
    },
    {
      "cell_type": "code",
      "metadata": {
        "id": "0Ll4XkljZFhA"
      },
      "source": [
        "def preprocessingImages2(path):\n",
        "  \"\"\"\n",
        "  input:Path\n",
        "  output: preprocess images\n",
        "  \"\"\"\n",
        "  image_data = ImageDataGenerator( rescale=1/255 , )\n",
        "  image = image_data.flow_from_directory(directory = path , target_size = (224 , 224) , batch_size = 32 ,class_mode = 'binary' )\n",
        "\n",
        "  return image\n",
        "\n",
        "\n",
        "\n",
        "\n"
      ],
      "execution_count": 19,
      "outputs": []
    },
    {
      "cell_type": "code",
      "metadata": {
        "colab": {
          "base_uri": "https://localhost:8080/"
        },
        "id": "TUXJ1Hv9ZQ1L",
        "outputId": "a821ec6d-3be0-44e2-c6c7-67531d0401c1"
      },
      "source": [
        "test_path = r'/content/test'\n",
        "test_data = preprocessingImages2(test_path)"
      ],
      "execution_count": 20,
      "outputs": [
        {
          "output_type": "stream",
          "text": [
            "Found 689 images belonging to 2 classes.\n"
          ],
          "name": "stdout"
        }
      ]
    },
    {
      "cell_type": "code",
      "metadata": {
        "colab": {
          "base_uri": "https://localhost:8080/"
        },
        "id": "2lOSDyrHZU8E",
        "outputId": "3fe510fe-1e08-4242-99b7-fff61ef9f176"
      },
      "source": [
        "val_path = r'/content/val'\n",
        "val_data = preprocessingImages2(val_path)"
      ],
      "execution_count": 21,
      "outputs": [
        {
          "output_type": "stream",
          "text": [
            "Found 689 images belonging to 2 classes.\n"
          ],
          "name": "stdout"
        }
      ]
    },
    {
      "cell_type": "code",
      "metadata": {
        "id": "_dhK7ySxaOwh"
      },
      "source": [
        "from keras.callbacks import  ModelCheckpoint ,  EarlyStopping\n"
      ],
      "execution_count": 22,
      "outputs": []
    },
    {
      "cell_type": "code",
      "metadata": {
        "id": "ZF5Urehvbp3p"
      },
      "source": [
        "\n",
        "es = EarlyStopping(monitor = 'val_accuracy' , min_delta= 0.01 , patience=6 , verbose=1 , mode='auto')\n",
        "\n",
        "\n",
        "\n",
        "mc = ModelCheckpoint(monitor = 'val_accuracy' , min_delta= 0.01,filepath=\"./bestmodel.h5\" , verbose=1 , save_best_only=True ,mode='auto')\n",
        "\n",
        "\n",
        "cd = [es , mc]"
      ],
      "execution_count": 27,
      "outputs": []
    },
    {
      "cell_type": "code",
      "metadata": {
        "colab": {
          "base_uri": "https://localhost:8080/"
        },
        "id": "H8-W2XSGBXqE",
        "outputId": "5f4e8744-7ac5-4326-dd20-7caeec21bc7f"
      },
      "source": [
        "hs = model.fit_generator(generator= train_data , steps_per_epoch=8,\n",
        "                         epochs = 8,\n",
        "                         verbose = 1,\n",
        "                         validation_data = val_data,\n",
        "                         validation_steps = 16,\n",
        "                         callbacks = cd\n",
        "                         )"
      ],
      "execution_count": 28,
      "outputs": [
        {
          "output_type": "stream",
          "text": [
            "Epoch 1/8\n",
            "8/8 [==============================] - 5s 669ms/step - loss: 0.5671 - accuracy: 0.7243 - val_loss: 0.5025 - val_accuracy: 0.7949\n",
            "\n",
            "Epoch 00001: val_accuracy improved from -inf to 0.79492, saving model to ./bestmodel.h5\n",
            "Epoch 2/8\n",
            "8/8 [==============================] - 5s 674ms/step - loss: 0.5558 - accuracy: 0.7227 - val_loss: 0.4514 - val_accuracy: 0.7988\n",
            "\n",
            "Epoch 00002: val_accuracy improved from 0.79492 to 0.79883, saving model to ./bestmodel.h5\n",
            "Epoch 3/8\n",
            "8/8 [==============================] - 5s 669ms/step - loss: 0.5089 - accuracy: 0.7617 - val_loss: 0.4836 - val_accuracy: 0.7754\n",
            "\n",
            "Epoch 00003: val_accuracy did not improve from 0.79883\n",
            "Epoch 4/8\n",
            "8/8 [==============================] - 5s 700ms/step - loss: 0.5014 - accuracy: 0.7773 - val_loss: 0.4860 - val_accuracy: 0.7988\n",
            "\n",
            "Epoch 00004: val_accuracy did not improve from 0.79883\n",
            "Epoch 5/8\n",
            "8/8 [==============================] - 5s 671ms/step - loss: 0.5182 - accuracy: 0.7778 - val_loss: 0.4537 - val_accuracy: 0.8066\n",
            "\n",
            "Epoch 00005: val_accuracy improved from 0.79883 to 0.80664, saving model to ./bestmodel.h5\n",
            "Epoch 6/8\n",
            "8/8 [==============================] - 5s 679ms/step - loss: 0.4447 - accuracy: 0.7891 - val_loss: 0.4775 - val_accuracy: 0.7812\n",
            "\n",
            "Epoch 00006: val_accuracy did not improve from 0.80664\n",
            "Epoch 7/8\n",
            "8/8 [==============================] - 5s 676ms/step - loss: 0.5364 - accuracy: 0.7617 - val_loss: 0.5334 - val_accuracy: 0.7285\n",
            "\n",
            "Epoch 00007: val_accuracy did not improve from 0.80664\n",
            "Epoch 8/8\n",
            "8/8 [==============================] - 5s 682ms/step - loss: 0.5458 - accuracy: 0.7305 - val_loss: 0.5080 - val_accuracy: 0.7832\n",
            "\n",
            "Epoch 00008: val_accuracy did not improve from 0.80664\n"
          ],
          "name": "stdout"
        }
      ]
    },
    {
      "cell_type": "code",
      "metadata": {
        "colab": {
          "base_uri": "https://localhost:8080/"
        },
        "id": "zpP4fO5BdxQH",
        "outputId": "b7f02f33-d5a5-41d3-fe14-3b7548e5b869"
      },
      "source": [
        "#model graphic interpretation\n",
        "\n",
        "h = hs.history\n",
        "h.keys()"
      ],
      "execution_count": 25,
      "outputs": [
        {
          "output_type": "execute_result",
          "data": {
            "text/plain": [
              "dict_keys(['loss', 'accuracy', 'val_loss', 'val_accuracy'])"
            ]
          },
          "metadata": {
            "tags": []
          },
          "execution_count": 25
        }
      ]
    },
    {
      "cell_type": "code",
      "metadata": {
        "colab": {
          "base_uri": "https://localhost:8080/",
          "height": 281
        },
        "id": "BQ-OL2E5erfj",
        "outputId": "15ec94cd-d89b-421f-8380-07e26764b5b5"
      },
      "source": [
        "import matplotlib.pyplot as plt\n",
        "\n",
        "plt.plot(h['accuracy'])\n",
        "plt.plot(h['val_accuracy'] , c = 'red')\n",
        "\n",
        "plt.title(\"acc vs val_acc\")\n",
        "plt.show()"
      ],
      "execution_count": 29,
      "outputs": [
        {
          "output_type": "display_data",
          "data": {
            "image/png": "[encoded data removed]",
            "text/plain": [
              "<Figure size 432x288 with 1 Axes>"
            ]
          },
          "metadata": {
            "tags": [],
            "needs_background": "light"
          }
        }
      ]
    },
    {
      "cell_type": "code",
      "metadata": {
        "colab": {
          "base_uri": "https://localhost:8080/",
          "height": 281
        },
        "id": "oGKVIbDXfAss",
        "outputId": "8d25f4d5-d2e0-4bcc-a866-fb0274112567"
      },
      "source": [
        "plt.plot(h['loss'])\n",
        "plt.plot(h['val_loss'] , c = 'red')\n",
        "\n",
        "plt.title(\"loss vs val_loss\")\n",
        "plt.show()"
      ],
      "execution_count": 30,
      "outputs": [
        {
          "output_type": "display_data",
          "data": {
            "image/png": "[encoded data removed]",
            "text/plain": [
              "<Figure size 432x288 with 1 Axes>"
            ]
          },
          "metadata": {
            "tags": [],
            "needs_background": "light"
          }
        }
      ]
    },
    {
      "cell_type": "code",
      "metadata": {
        "id": "vwa6GDnUfT3I"
      },
      "source": [
        "#model accuracy\n",
        "from keras.models import load_model\n",
        "\n",
        "model = load_model('/content/bestmodel.h5')\n"
      ],
      "execution_count": 31,
      "outputs": []
    },
    {
      "cell_type": "code",
      "metadata": {
        "colab": {
          "base_uri": "https://localhost:8080/"
        },
        "id": "7cdG3WzqES1Q",
        "outputId": "35122c38-4f24-43ca-8198-f298f2a36bf1"
      },
      "source": [
        "acc = model.evaluate_generator(test_data)[1]\n",
        "\n",
        "print(acc)"
      ],
      "execution_count": 32,
      "outputs": [
        {
          "output_type": "stream",
          "text": [
            "0.8185776472091675\n"
          ],
          "name": "stdout"
        }
      ]
    },
    {
      "cell_type": "code",
      "metadata": {
        "id": "2TXI2lShGOAQ"
      },
      "source": [
        "from keras_preprocessing.image import load_img , img_to_array"
      ],
      "execution_count": 33,
      "outputs": []
    },
    {
      "cell_type": "code",
      "metadata": {
        "id": "dbLeFUj5FPvk"
      },
      "source": [
        "path = '/content/BrainTumorData/Brain Tumor Data Set/Healthey/Not Cancer  (1944).jpg'\n",
        "image = load_img(path , target_size=(224,224))"
      ],
      "execution_count": 44,
      "outputs": []
    },
    {
      "cell_type": "code",
      "metadata": {
        "colab": {
          "base_uri": "https://localhost:8080/",
          "height": 269
        },
        "id": "TiG80H17Iagu",
        "outputId": "748a33c8-e706-47fd-e976-46a7d1238589"
      },
      "source": [
        "input_array = img_to_array(image)/255\n",
        "plt.imshow(input_array)\n",
        "plt.show()"
      ],
      "execution_count": 49,
      "outputs": [
        {
          "output_type": "display_data",
          "data": {
            "image/png": "[encoded data removed]",
            "text/plain": [
              "<Figure size 432x288 with 1 Axes>"
            ]
          },
          "metadata": {
            "tags": [],
            "needs_background": "light"
          }
        }
      ]
    },
    {
      "cell_type": "code",
      "metadata": {
        "id": "wEIj_z8qIl0N"
      },
      "source": [
        "input_array = np.expand_dims(input_array , axis = 0)\n",
        "\n",
        "pred = model.predict_classes(input_array)[0][0]"
      ],
      "execution_count": 46,
      "outputs": []
    },
    {
      "cell_type": "code",
      "metadata": {
        "id": "BZqCPpMZKEjG"
      },
      "source": [
        ""
      ],
      "execution_count": null,
      "outputs": []
    },
    {
      "cell_type": "code",
      "metadata": {
        "colab": {
          "base_uri": "https://localhost:8080/"
        },
        "id": "7wVW1mSjJF0q",
        "outputId": "836ffe84-c348-4e10-b21f-bbae53ccef3a"
      },
      "source": [
        "if pred == 0:\n",
        "    print(\"Brain Tumour\")\n",
        "else:\n",
        "  print(\"Healthy\")\n"
      ],
      "execution_count": 48,
      "outputs": [
        {
          "output_type": "stream",
          "text": [
            "Healthy\n"
          ],
          "name": "stdout"
        }
      ]
    },
    {
      "cell_type": "code",
      "metadata": {
        "id": "6I3GAJFXJKa_"
      },
      "source": [
        ""
      ],
      "execution_count": null,
      "outputs": []
    }
  ]
}